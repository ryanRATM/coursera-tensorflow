{
 "cells": [
  {
   "cell_type": "markdown",
   "metadata": {
    "colab_type": "text",
    "id": "UncprnB0ymAE"
   },
   "source": [
    "Below is code with a link to a happy or sad dataset which contains 80 images, 40 happy and 40 sad. \n",
    "Create a convolutional neural network that trains to 100% accuracy on these images,  which cancels training upon hitting training accuracy of >.999\n",
    "\n",
    "Hint -- it will work best with 3 convolutional layers."
   ]
  },
  {
   "cell_type": "code",
   "execution_count": 1,
   "metadata": {},
   "outputs": [],
   "source": [
    "import tensorflow as tf\n",
    "import os\n",
    "import zipfile\n",
    "from os import path, getcwd, chdir\n",
    "\n",
    "# DO NOT CHANGE THE LINE BELOW. If you are developing in a local\n",
    "# environment, then grab happy-or-sad.zip from the Coursera Jupyter Notebook\n",
    "# and place it inside a local folder and edit the path to that location\n",
    "path = f\"{getcwd()}/../tmp2/happy-or-sad.zip\"\n",
    "\n",
    "zip_ref = zipfile.ZipFile(path, 'r')\n",
    "zip_ref.extractall(\"/tmp/h-or-s\")\n",
    "zip_ref.close()"
   ]
  },
  {
   "cell_type": "code",
   "execution_count": 24,
   "metadata": {},
   "outputs": [],
   "source": [
    "# GRADED FUNCTION: train_happy_sad_model\n",
    "def train_happy_sad_model():\n",
    "    # Please write your code only where you are indicated.\n",
    "    # please do not remove # model fitting inline comments.\n",
    "\n",
    "    DESIRED_ACCURACY = 0.999\n",
    "\n",
    "    class myCallback(tf.keras.callbacks.Callback):\n",
    "        def on_epoch_end(self, epoch, logs={}):\n",
    "            print(logs)\n",
    "            if(.999 <= logs.get('acc')):\n",
    "                self.model.stop_training = True\n",
    "\n",
    "    callbacks = myCallback()\n",
    "    \n",
    "    # This Code Block should Define and Compile the Model. Please assume the images are 150 X 150 in your implementation.\n",
    "    model = tf.keras.models.Sequential([\n",
    "        tf.keras.layers.Conv2D(32, (5,5), activation='relu', input_shape=(150, 150, 3)),\n",
    "        tf.keras.layers.MaxPooling2D(2, 2),\n",
    "        # The second convolution\n",
    "        tf.keras.layers.Conv2D(64, (3,3), activation='relu'),\n",
    "        tf.keras.layers.MaxPooling2D(2,2),\n",
    "        # The third convolution\n",
    "        tf.keras.layers.Conv2D(64, (3,3), activation='relu'),\n",
    "        tf.keras.layers.MaxPooling2D(2,2),\n",
    "        # Flatten the results to feed into a DNN\n",
    "        tf.keras.layers.Flatten(),\n",
    "        # 512 neuron hidden layer\n",
    "        tf.keras.layers.Dense(512, activation='relu'),\n",
    "        # Only 1 output neuron. It will contain a value from 0-1 where 0 for 1 class ('horses') and 1 for the other ('humans')\n",
    "        tf.keras.layers.Dense(1, activation='sigmoid')\n",
    "    ])\n",
    "\n",
    "    from tensorflow.keras.optimizers import RMSprop\n",
    "\n",
    "    model.compile(optimizer=RMSprop(lr=0.001), loss='binary_crossentropy', metrics=['accuracy'])\n",
    "        \n",
    "\n",
    "    # This code block should create an instance of an ImageDataGenerator called train_datagen \n",
    "    # And a train_generator by calling train_datagen.flow_from_directory\n",
    "\n",
    "    from tensorflow.keras.preprocessing.image import ImageDataGenerator\n",
    "\n",
    "    train_datagen = ImageDataGenerator(rescale=1/255)\n",
    "\n",
    "    # Please use a target_size of 150 X 150.\n",
    "    train_generator = train_datagen.flow_from_directory(\n",
    "        '/tmp/h-or-s/',  # This is the source directory for training images\n",
    "        target_size=(150, 150),  # All images will be resized to 300x300\n",
    "        # Since we use binary_crossentropy loss, we need binary labels\n",
    "        class_mode='binary')\n",
    "    \n",
    "    # Expected output: 'Found 80 images belonging to 2 classes'\n",
    "\n",
    "    # This code block should call model.fit_generator and train for\n",
    "    # a number of epochs.\n",
    "    # model fitting\n",
    "    history = model.fit_generator(train_generator, epochs=20, verbose=1, callbacks=[callbacks])\n",
    "        \n",
    "    return history.history['acc'][-1]"
   ]
  },
  {
   "cell_type": "code",
   "execution_count": 25,
   "metadata": {},
   "outputs": [
    {
     "name": "stdout",
     "output_type": "stream",
     "text": [
      "Found 80 images belonging to 2 classes.\n",
      "Epoch 1/20\n",
      "2/3 [===================>..........] - ETA: 1s - loss: 5.7722 - acc: 0.4531{'loss': 4.807331967353821, 'acc': 0.5}\n",
      "3/3 [==============================] - 4s 1s/step - loss: 4.3249 - acc: 0.5000\n",
      "Epoch 2/20\n",
      "2/3 [===================>..........] - ETA: 0s - loss: 0.6737 - acc: 0.4844{'loss': 0.659725570678711, 'acc': 0.5875}\n",
      "3/3 [==============================] - 1s 175ms/step - loss: 0.6527 - acc: 0.5875\n",
      "Epoch 3/20\n",
      "2/3 [===================>..........] - ETA: 0s - loss: 0.9416 - acc: 0.6250{'loss': 0.9065935850143433, 'acc': 0.5375}\n",
      "3/3 [==============================] - 1s 224ms/step - loss: 0.8768 - acc: 0.5375\n",
      "Epoch 4/20\n",
      "2/3 [===================>..........] - ETA: 0s - loss: 0.5646 - acc: 0.8542{'loss': 0.6937446117401123, 'acc': 0.675}\n",
      "3/3 [==============================] - 1s 199ms/step - loss: 0.6828 - acc: 0.6750\n",
      "Epoch 5/20\n",
      "2/3 [===================>..........] - ETA: 0s - loss: 0.7464 - acc: 0.5469{'loss': 0.6988733410835266, 'acc': 0.575}\n",
      "3/3 [==============================] - 1s 167ms/step - loss: 0.6751 - acc: 0.5750\n",
      "Epoch 6/20\n",
      "2/3 [===================>..........] - ETA: 0s - loss: 0.3914 - acc: 0.9583{'loss': 0.3346237301826477, 'acc': 0.975}\n",
      "3/3 [==============================] - 1s 169ms/step - loss: 0.3455 - acc: 0.9750\n",
      "Epoch 7/20\n",
      "2/3 [===================>..........] - ETA: 0s - loss: 0.2252 - acc: 0.9219{'loss': 0.22173798680305482, 'acc': 0.9}\n",
      "3/3 [==============================] - 0s 135ms/step - loss: 0.2200 - acc: 0.9000\n",
      "Epoch 8/20\n",
      "2/3 [===================>..........] - ETA: 0s - loss: 0.3400 - acc: 0.8125{'loss': 0.3095789313316345, 'acc': 0.8375}\n",
      "3/3 [==============================] - 0s 137ms/step - loss: 0.2944 - acc: 0.8375\n",
      "Epoch 9/20\n",
      "2/3 [===================>..........] - ETA: 0s - loss: 0.1292 - acc: 0.9531{'loss': 0.1331145465373993, 'acc': 0.95}\n",
      "3/3 [==============================] - 0s 135ms/step - loss: 0.1351 - acc: 0.9500\n",
      "Epoch 10/20\n",
      "2/3 [===================>..........] - ETA: 0s - loss: 0.2419 - acc: 0.7917{'loss': 0.21653655171394348, 'acc': 0.875}\n",
      "3/3 [==============================] - 0s 164ms/step - loss: 0.2136 - acc: 0.8750\n",
      "Epoch 11/20\n",
      "2/3 [===================>..........] - ETA: 0s - loss: 0.1278 - acc: 0.9375{'loss': 0.10299014449119567, 'acc': 0.9625}\n",
      "3/3 [==============================] - 0s 132ms/step - loss: 0.1067 - acc: 0.9625\n",
      "Epoch 12/20\n",
      "2/3 [===================>..........] - ETA: 0s - loss: 0.1502 - acc: 0.8958{'loss': 0.14442707300186158, 'acc': 0.9125}\n",
      "3/3 [==============================] - 0s 134ms/step - loss: 0.1461 - acc: 0.9125\n",
      "Epoch 13/20\n",
      "2/3 [===================>..........] - ETA: 0s - loss: 0.0752 - acc: 1.0000{'loss': 0.059588578343391416, 'acc': 0.9875}\n",
      "3/3 [==============================] - 0s 164ms/step - loss: 0.0633 - acc: 0.9875\n",
      "Epoch 14/20\n",
      "2/3 [===================>..........] - ETA: 0s - loss: 0.0458 - acc: 1.0000{'loss': 0.03213785793632269, 'acc': 1.0}\n",
      "3/3 [==============================] - 1s 168ms/step - loss: 0.0324 - acc: 1.0000\n"
     ]
    },
    {
     "data": {
      "text/plain": [
       "1.0"
      ]
     },
     "execution_count": 25,
     "metadata": {},
     "output_type": "execute_result"
    }
   ],
   "source": [
    "# The Expected output: \"Reached 99.9% accuracy so cancelling training!\"\"\n",
    "train_happy_sad_model()"
   ]
  },
  {
   "cell_type": "code",
   "execution_count": 4,
   "metadata": {},
   "outputs": [],
   "source": [
    "# Now click the 'Submit Assignment' button above.\n",
    "# Once that is complete, please run the following two cells to save your work and close the notebook"
   ]
  },
  {
   "cell_type": "code",
   "execution_count": null,
   "metadata": {},
   "outputs": [],
   "source": [
    "%%javascript\n",
    "<!-- Save the notebook -->\n",
    "IPython.notebook.save_checkpoint();"
   ]
  },
  {
   "cell_type": "code",
   "execution_count": null,
   "metadata": {},
   "outputs": [],
   "source": [
    "%%javascript\n",
    "IPython.notebook.session.delete();\n",
    "window.onbeforeunload = null\n",
    "setTimeout(function() { window.close(); }, 1000);"
   ]
  }
 ],
 "metadata": {
  "coursera": {
   "course_slug": "introduction-tensorflow",
   "graded_item_id": "1kAlw",
   "launcher_item_id": "PNLYD"
  },
  "kernelspec": {
   "display_name": "Python 3",
   "language": "python",
   "name": "python3"
  },
  "language_info": {
   "codemirror_mode": {
    "name": "ipython",
    "version": 3
   },
   "file_extension": ".py",
   "mimetype": "text/x-python",
   "name": "python",
   "nbconvert_exporter": "python",
   "pygments_lexer": "ipython3",
   "version": "3.6.8"
  }
 },
 "nbformat": 4,
 "nbformat_minor": 1
}
