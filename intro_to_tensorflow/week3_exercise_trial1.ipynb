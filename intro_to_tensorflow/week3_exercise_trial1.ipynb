{
  "nbformat": 4,
  "nbformat_minor": 0,
  "metadata": {
    "colab": {
      "name": "Exercise 3 - Question.ipynb",
      "provenance": [],
      "collapsed_sections": [],
      "toc_visible": true
    },
    "kernelspec": {
      "display_name": "Python 3",
      "name": "python3"
    }
  },
  "cells": [
    {
      "cell_type": "code",
      "metadata": {
        "id": "zX4Kg8DUTKWO",
        "colab_type": "code",
        "colab": {}
      },
      "source": [
        "#@title Licensed under the Apache License, Version 2.0 (the \"License\");\n",
        "# you may not use this file except in compliance with the License.\n",
        "# You may obtain a copy of the License at\n",
        "#\n",
        "# https://www.apache.org/licenses/LICENSE-2.0\n",
        "#\n",
        "# Unless required by applicable law or agreed to in writing, software\n",
        "# distributed under the License is distributed on an \"AS IS\" BASIS,\n",
        "# WITHOUT WARRANTIES OR CONDITIONS OF ANY KIND, either express or implied.\n",
        "# See the License for the specific language governing permissions and\n",
        "# limitations under the License."
      ],
      "execution_count": 0,
      "outputs": []
    },
    {
      "cell_type": "markdown",
      "metadata": {
        "colab_type": "text",
        "id": "iQjHqsmTAVLU"
      },
      "source": [
        "## Exercise 3\n",
        "In the videos you looked at how you would improve Fashion MNIST using Convolutions. For your exercise see if you can improve MNIST to 99.8% accuracy or more using only a single convolutional layer and a single MaxPooling 2D. You should stop training once the accuracy goes above this amount. It should happen in less than 20 epochs, so it's ok to hard code the number of epochs for training, but your training must end once it hits the above metric. If it doesn't, then you'll need to redesign your layers.\n",
        "\n",
        "I've started the code for you -- you need to finish it!\n",
        "\n",
        "When 99.8% accuracy has been hit, you should print out the string \"Reached 99.8% accuracy so cancelling training!\"\n"
      ]
    },
    {
      "cell_type": "code",
      "metadata": {
        "colab_type": "code",
        "id": "sfQRyaJWAIdg",
        "colab": {
          "base_uri": "https://localhost:8080/",
          "height": 954
        },
        "outputId": "54f917b2-ff70-47a7-86d5-d825fe94044c"
      },
      "source": [
        "import tensorflow as tf\n",
        "\n",
        "# YOUR CODE STARTS HERE\n",
        "class MyEpochTrainningCallback(tf.keras.callbacks.Callback):\n",
        "    def on_epoch_end(self, epoch, logs={}):\n",
        "      if(.998 < logs.get('accuracy')):\n",
        "        print('Reached 99.8% accuracy so cancelling training!')\n",
        "        self.model.stop_training = True\n",
        "\n",
        "\n",
        "callback = MyEpochTrainningCallback()\n",
        "# YOUR CODE ENDS HERE\n",
        "\n",
        "mnist = tf.keras.datasets.mnist\n",
        "(training_images, training_labels), (test_images, test_labels) = mnist.load_data()\n",
        "\n",
        "# YOUR CODE STARTS HERE\n",
        "training_images = training_images.reshape(60000, 28, 28, 1)\n",
        "training_images = training_images / 255.0\n",
        "test_images = test_images.reshape(10000, 28, 28, 1)\n",
        "test_images = test_images/255.0\n",
        "\n",
        "print(test_images.shape)\n",
        "\n",
        "model = tf.keras.models.Sequential([\n",
        "  tf.keras.layers.Conv2D(128, (3,3), activation='relu', input_shape=(28, 28, 1)),\n",
        "  tf.keras.layers.MaxPooling2D(5, 5),\n",
        "  tf.keras.layers.Flatten(),\n",
        "  tf.keras.layers.Dense(128, activation=tf.nn.relu),\n",
        "  tf.keras.layers.Dense(10, activation=tf.nn.softmax)\n",
        "])\n",
        "\n",
        "model.compile(optimizer='adam', loss='sparse_categorical_crossentropy', metrics=['accuracy'])\n",
        "\n",
        "model.summary()\n",
        "\n",
        "model.fit(training_images, training_labels, epochs=20, callbacks=[callback])\n",
        "\n",
        "\n"
      ],
      "execution_count": 21,
      "outputs": [
        {
          "output_type": "stream",
          "text": [
            "(10000, 28, 28, 1)\n",
            "Model: \"sequential_16\"\n",
            "_________________________________________________________________\n",
            "Layer (type)                 Output Shape              Param #   \n",
            "=================================================================\n",
            "conv2d_15 (Conv2D)           (None, 26, 26, 128)       1280      \n",
            "_________________________________________________________________\n",
            "max_pooling2d_15 (MaxPooling (None, 5, 5, 128)         0         \n",
            "_________________________________________________________________\n",
            "flatten_16 (Flatten)         (None, 3200)              0         \n",
            "_________________________________________________________________\n",
            "dense_32 (Dense)             (None, 128)               409728    \n",
            "_________________________________________________________________\n",
            "dense_33 (Dense)             (None, 10)                1290      \n",
            "=================================================================\n",
            "Total params: 412,298\n",
            "Trainable params: 412,298\n",
            "Non-trainable params: 0\n",
            "_________________________________________________________________\n",
            "Epoch 1/20\n",
            "1875/1875 [==============================] - 40s 21ms/step - loss: 0.1774 - accuracy: 0.9465\n",
            "Epoch 2/20\n",
            "1875/1875 [==============================] - 39s 21ms/step - loss: 0.0664 - accuracy: 0.9794\n",
            "Epoch 3/20\n",
            "1875/1875 [==============================] - 39s 21ms/step - loss: 0.0486 - accuracy: 0.9851\n",
            "Epoch 4/20\n",
            "1875/1875 [==============================] - 39s 21ms/step - loss: 0.0367 - accuracy: 0.9883\n",
            "Epoch 5/20\n",
            "1875/1875 [==============================] - 41s 22ms/step - loss: 0.0280 - accuracy: 0.9908\n",
            "Epoch 6/20\n",
            "1875/1875 [==============================] - 40s 21ms/step - loss: 0.0221 - accuracy: 0.9926\n",
            "Epoch 7/20\n",
            "1875/1875 [==============================] - 40s 21ms/step - loss: 0.0183 - accuracy: 0.9941\n",
            "Epoch 8/20\n",
            "1875/1875 [==============================] - 40s 21ms/step - loss: 0.0142 - accuracy: 0.9951\n",
            "Epoch 9/20\n",
            "1875/1875 [==============================] - 40s 21ms/step - loss: 0.0124 - accuracy: 0.9960\n",
            "Epoch 10/20\n",
            "1875/1875 [==============================] - 40s 21ms/step - loss: 0.0101 - accuracy: 0.9965\n",
            "Epoch 11/20\n",
            "1875/1875 [==============================] - 40s 21ms/step - loss: 0.0091 - accuracy: 0.9970\n",
            "Epoch 12/20\n",
            "1875/1875 [==============================] - 41s 22ms/step - loss: 0.0074 - accuracy: 0.9977\n",
            "Epoch 13/20\n",
            "1875/1875 [==============================] - 40s 21ms/step - loss: 0.0061 - accuracy: 0.9978\n",
            "Epoch 14/20\n",
            "1875/1875 [==============================] - 41s 22ms/step - loss: 0.0061 - accuracy: 0.9979\n",
            "Epoch 15/20\n",
            "1874/1875 [============================>.] - ETA: 0s - loss: 0.0051 - accuracy: 0.9982Reached 99.8% accuracy so cancelling training!\n",
            "1875/1875 [==============================] - 40s 21ms/step - loss: 0.0051 - accuracy: 0.9982\n"
          ],
          "name": "stdout"
        },
        {
          "output_type": "execute_result",
          "data": {
            "text/plain": [
              "<tensorflow.python.keras.callbacks.History at 0x7ff0f4362278>"
            ]
          },
          "metadata": {
            "tags": []
          },
          "execution_count": 21
        }
      ]
    }
  ]
}